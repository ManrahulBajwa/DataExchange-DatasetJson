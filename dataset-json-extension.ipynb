{
 "cells": [
  {
   "cell_type": "markdown",
   "metadata": {},
   "source": [
    "# Dataset-JSON Notebook"
   ]
  },
  {
   "cell_type": "markdown",
   "metadata": {},
   "source": [
    "## Create JSON Extension Schema from LinkML\n",
    "Run the below to create the JSON Extension schema from the `examples/extensions/extension.yaml` LinkML file."
   ]
  },
  {
   "cell_type": "code",
   "execution_count": null,
   "metadata": {},
   "outputs": [],
   "source": [
    "# Generate JSON Schema\n",
    "# https://linkml.io/linkml/generators/json-schema.html#json-schema\n",
    "!gen-json-schema examples/extensions/extension.yaml --closed --include-range-class-descendants --mergeimports -i > examples/extensions/dataset_extension.schema.json\n",
    "\n",
    "import json\n",
    "with open('examples/extensions/dataset_extension.schema.json', 'r') as file:\n",
    "    schema = json.load(file)\n",
    "\n",
    "# Set the type of Row to \"array\" instead of \"object\" to handle nested list of lists\n",
    "# Workaround using inlined 'Row' object is needed until array support in LinkML is mature\n",
    "schema[\"$defs\"][\"Row\"][\"type\"] = \"array\"\n",
    "\n",
    "with open('examples/extensions/dataset_extension.schema.json', 'w') as file:\n",
    "    json.dump(schema, file, indent=4)"
   ]
  },
  {
   "cell_type": "markdown",
   "metadata": {},
   "source": [
    "## Validate a file"
   ]
  },
  {
   "cell_type": "code",
   "execution_count": null,
   "metadata": {},
   "outputs": [],
   "source": [
    "import json\n",
    "from jsonschema import validate\n",
    "with open('examples/extensions/extended_dataset.json', 'r') as file:\n",
    "    with open('examples/extensions/dataset_extension.schema.json', 'r') as schema_file:\n",
    "        validation_findings = validate(instance = json.load(file), schema = json.load(schema_file))\n",
    "if not validation_findings:\n",
    "    print('Passed Validation')"
   ]
  }
 ],
 "metadata": {
  "kernelspec": {
   "display_name": "Python 3",
   "language": "python",
   "name": "python3"
  },
  "language_info": {
   "codemirror_mode": {
    "name": "ipython",
    "version": 3
   },
   "file_extension": ".py",
   "mimetype": "text/x-python",
   "name": "python",
   "nbconvert_exporter": "python",
   "pygments_lexer": "ipython3",
   "version": "3.9.7"
  }
 },
 "nbformat": 4,
 "nbformat_minor": 2
}
