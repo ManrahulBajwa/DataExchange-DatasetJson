{
 "cells": [
  {
   "cell_type": "markdown",
   "metadata": {},
   "source": [
    "# Dataset-JSON Notebook"
   ]
  },
  {
   "cell_type": "markdown",
   "metadata": {},
   "source": [
    "## Validate a file"
   ]
  },
  {
   "cell_type": "code",
   "execution_count": 4,
   "metadata": {},
   "outputs": [
    {
     "name": "stdout",
     "output_type": "stream",
     "text": [
      "Passed Validation\n"
     ]
    }
   ],
   "source": [
    "import json\n",
    "from jsonschema import validate\n",
    "with open('examples/adam/adsl_NEW.json', 'r') as file:\n",
    "    with open('schema/dataset.schema.json', 'r') as schema_file:\n",
    "        validation_findings = validate(instance = json.load(file), schema = json.load(schema_file))\n",
    "if not validation_findings:\n",
    "    print('Passed Validation')"
   ]
  },
  {
   "cell_type": "markdown",
   "metadata": {},
   "source": [
    "## Update JSON Schema from LinkML\n",
    "Run the below to pick up schema modifications made in the `schema/dataset.yaml` LinkML file.\n",
    "\n",
    "Inspect the `generated_dataset.schema.json` file created and replace the existing `dataset.schema.json` with it once approved"
   ]
  },
  {
   "cell_type": "code",
   "execution_count": 57,
   "metadata": {},
   "outputs": [],
   "source": [
    "# Generate JSON Schema\n",
    "# https://linkml.io/linkml/generators/json-schema.html#json-schema\n",
    "!gen-json-schema schema/dataset.yaml --include-range-class-descendants -i > schema/generated_dataset.schema.json\n",
    "\n",
    "import json\n",
    "with open('schema/generated_dataset.schema.json', 'r') as file:\n",
    "    schema = json.load(file)\n",
    "\n",
    "# Set the type of Row to \"array\" instead of \"object\" to handle nested list of lists\n",
    "# Workaround using inlined 'Row' object is needed until array support in LinkML is mature\n",
    "schema[\"$defs\"][\"Row\"][\"type\"] = \"array\"\n",
    "\n",
    "with open('schema/generated_dataset.schema.json', 'w') as file:\n",
    "    json.dump(schema, file, indent=4)"
   ]
  },
  {
   "cell_type": "markdown",
   "metadata": {},
   "source": [
    "# Convert JSON from v1.0 to v1.1"
   ]
  },
  {
   "cell_type": "markdown",
   "metadata": {},
   "source": [
    "## Convert a single example"
   ]
  },
  {
   "cell_type": "code",
   "execution_count": 1,
   "metadata": {},
   "outputs": [],
   "source": [
    "from convert.convert_1_0_to_1_1 import process_json_file\n",
    "process_json_file('examples/adam/adsl.json', 'examples/adam/adsl_NEW.json')"
   ]
  },
  {
   "cell_type": "markdown",
   "metadata": {},
   "source": [
    "## Convert all examples in place"
   ]
  },
  {
   "cell_type": "code",
   "execution_count": 2,
   "metadata": {},
   "outputs": [],
   "source": [
    "from convert.convert_1_0_to_1_1 import process_json_file\n",
    "import os\n",
    "\n",
    "def process_folder(folder_path):\n",
    "    # Traverse the directory\n",
    "    for root, dirs, files in os.walk(folder_path):\n",
    "        for file in files:\n",
    "            if file.endswith('.json'):\n",
    "                file_path = os.path.join(root, file)\n",
    "                process_json_file(file_path, file_path[:-5] + '_NEW.json')\n",
    "                \n",
    "# Creates same name but _NEW in the same folder for inspection\n",
    "folders_to_process = ['examples/adam', 'examples/i18n', 'examples/sdtm']\n",
    "for folder in folders_to_process:\n",
    "    process_folder(folder)"
   ]
  },
  {
   "cell_type": "code",
   "execution_count": 14,
   "metadata": {},
   "outputs": [],
   "source": [
    "# # Run this to confirm\n",
    "# from convert.convert_1_0_to_1_1 import process_json_file\n",
    "# import os\n",
    "\n",
    "# def process_folder(folder_path):\n",
    "#     # Traverse the directory\n",
    "#     for root, dirs, files in os.walk(folder_path):\n",
    "#         for file in files:\n",
    "#             if file.endswith('_NEW.json'):\n",
    "#                 file_path = os.path.join(root, file)\n",
    "#                 os.replace(file_path, file_path.replace('_NEW.json', 'json'))\n",
    "#                 os.remove(file_path)\n",
    "                \n",
    "# # Creates same name but _NEW in the same folder for inspection\n",
    "# folders_to_process = ['examples/adam', 'examples/i18n', 'examples/sdtm']\n",
    "# for folder in folders_to_process:\n",
    "#     process_folder(folder)"
   ]
  }
 ],
 "metadata": {
  "kernelspec": {
   "display_name": "Python 3",
   "language": "python",
   "name": "python3"
  },
  "language_info": {
   "codemirror_mode": {
    "name": "ipython",
    "version": 3
   },
   "file_extension": ".py",
   "mimetype": "text/x-python",
   "name": "python",
   "nbconvert_exporter": "python",
   "pygments_lexer": "ipython3",
   "version": "3.11.4"
  }
 },
 "nbformat": 4,
 "nbformat_minor": 2
}
